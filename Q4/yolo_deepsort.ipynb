{
 "cells": [
  {
   "attachments": {},
   "cell_type": "markdown",
   "metadata": {},
   "source": [
    "# Input setup"
   ]
  },
  {
   "cell_type": "code",
   "execution_count": 13,
   "metadata": {},
   "outputs": [],
   "source": [
    "import torch\n",
    "import cv2\n",
    "import numpy as np\n",
    "\n",
    "cap = cv2.VideoCapture('./testVideos/vid2.mp4')\n",
    "width = int(cap.get(cv2.CAP_PROP_FRAME_WIDTH))\n",
    "height = int(cap.get(cv2.CAP_PROP_FRAME_HEIGHT))\n",
    "fps = int(cap.get(cv2.CAP_PROP_FPS))\n",
    "\n",
    "# Create a video writer object to save the output video in MP4 format\n",
    "fourcc = cv2.VideoWriter_fourcc(*'mp4v')\n",
    "out = cv2.VideoWriter('./outputs/vid2YOLO_Deepsort.mp4', fourcc, fps, (width, height))"
   ]
  },
  {
   "attachments": {},
   "cell_type": "markdown",
   "metadata": {},
   "source": [
    "# YOLO"
   ]
  },
  {
   "cell_type": "code",
   "execution_count": 14,
   "metadata": {},
   "outputs": [
    {
     "name": "stderr",
     "output_type": "stream",
     "text": [
      "Using cache found in /Users/vatsal007/.cache/torch/hub/ultralytics_yolov5_master\n",
      "YOLOv5 🚀 2023-3-10 Python-3.8.16 torch-2.1.0.dev20230302 CPU\n",
      "\n",
      "Fusing layers... \n",
      "YOLOv5s summary: 213 layers, 7225885 parameters, 0 gradients\n",
      "Adding AutoShape... \n"
     ]
    }
   ],
   "source": [
    "# Model\n",
    "model = torch.hub.load('ultralytics/yolov5', 'yolov5s', pretrained=True)"
   ]
  },
  {
   "attachments": {},
   "cell_type": "markdown",
   "metadata": {},
   "source": [
    "# DeepSort"
   ]
  },
  {
   "cell_type": "code",
   "execution_count": 15,
   "metadata": {},
   "outputs": [
    {
     "name": "stderr",
     "output_type": "stream",
     "text": [
      "2023-03-22 22:31:00.605038: I tensorflow/core/common_runtime/pluggable_device/pluggable_device_factory.cc:306] Could not identify NUMA node of platform GPU ID 0, defaulting to 0. Your kernel may not have been built with NUMA support.\n",
      "2023-03-22 22:31:00.605055: I tensorflow/core/common_runtime/pluggable_device/pluggable_device_factory.cc:272] Created TensorFlow device (/job:localhost/replica:0/task:0/device:GPU:0 with 0 MB memory) -> physical PluggableDevice (device: 0, name: METAL, pci bus id: <undefined>)\n"
     ]
    }
   ],
   "source": [
    "from deep_sort_realtime.deepsort_tracker import DeepSort\n",
    "from deep_sort.deep_sort import nn_matching\n",
    "from deep_sort.deep_sort.detection import Detection\n",
    "from deep_sort.deep_sort.tracker import Tracker\n",
    "from deep_sort.tools import generate_detections\n",
    "from deep_sort.application_util import preprocessing\n",
    "\n",
    "# Set up the DeepSORT tracker\n",
    "max_cosine_distance = 0.1\n",
    "nn_budget = None\n",
    "nms_max_overlap = 1.0\n",
    "\n",
    "model_filename = './deep_sort/model_data/mars-small128.pb'\n",
    "encoder = generate_detections.create_box_encoder(model_filename, batch_size=1)\n",
    "metric = nn_matching.NearestNeighborDistanceMetric(\"cosine\", max_cosine_distance, nn_budget)\n",
    "tracker = Tracker(metric)"
   ]
  },
  {
   "attachments": {},
   "cell_type": "markdown",
   "metadata": {},
   "source": [
    "# Detection and Display"
   ]
  },
  {
   "cell_type": "code",
   "execution_count": 16,
   "metadata": {},
   "outputs": [
    {
     "name": "stderr",
     "output_type": "stream",
     "text": [
      "2023-03-22 22:31:00.837057: I tensorflow/core/grappler/optimizers/custom_graph_optimizer_registry.cc:114] Plugin optimizer for device_type GPU is enabled.\n"
     ]
    }
   ],
   "source": [
    "import time\n",
    "start_time = time.time()\n",
    "num_frames = 0\n",
    "\n",
    "ids = []\n",
    "while(cap.isOpened()):\n",
    "      \n",
    "# Capture frame-by-frame\n",
    "    ret, frame = cap.read()\n",
    "    if ret == True:\n",
    "        # Increment the frame count\n",
    "        num_frames += 1\n",
    "        # Calculate fps\n",
    "        elapsed_time = time.time() - start_time\n",
    "        fps = num_frames / elapsed_time\n",
    "        # Display the fps\n",
    "        cv2.putText(frame, f\"FPS: {round(fps, 2)}\", (50, 50), cv2.FONT_HERSHEY_SIMPLEX, 1, (0, 255, 0), 2)\n",
    "        \n",
    "        #detecting any object\n",
    "        img = []\n",
    "        img.append(frame)\n",
    "        result = model(img).pandas().xyxy[0]\n",
    "        yoloout = result\n",
    "\n",
    "        # vehicles = []\n",
    "\n",
    "        #converting output to deepsort input\n",
    "        boxes, scores, classes, detections = [],[],[],[]\n",
    "        for i in result.index:\n",
    "            if(result['name'][i] == 'car' or result['name'][i] == 'truck' or result['name'][i] == 'motorcycle' or result['name'][i] == 'bicycle'):\n",
    "                classes.append(result['name'][i])\n",
    "                scores.append(result['confidence'][i])\n",
    "                xleft,yleft,xright,yright = int(result['xmin'][i]),int(result['ymin'][i]),int(result['xmax'][i]),int(result['ymax'][i])\n",
    "                bbox = [xleft, yleft, xright-xleft, yright-yleft]\n",
    "                boxes.append(bbox)\n",
    "        classes = np.array(classes)\n",
    "        scores = np.array(scores)\n",
    "        boxes = np.array(boxes)\n",
    "        features = np.array(encoder(frame,boxes))\n",
    "        detections = [Detection(bbox,score,feature) for bbox, score, class_name, feature in zip(boxes, scores, classes, features)]\n",
    "\n",
    "        boxes = np.array([detection.tlwh for detection in detections])\n",
    "        scores = np.array(detection.confidence for detection in detections)\n",
    "\n",
    "        # indices = preprocessing.non_max_suppression(boxes, nms_max_overlap,scores)\n",
    "        # detections = [detections[i] for i in indices]\n",
    "\n",
    "        # Update the tracker with the current detections\n",
    "        tracker.predict()\n",
    "        tracker.update(detections)\n",
    "\n",
    "        for track in tracker.tracks:\n",
    "            if not track.is_confirmed() or track.time_since_update > 1:\n",
    "                continue\n",
    "            bbox = track.to_tlbr()\n",
    "            ids.append(track.track_id)\n",
    "            cv2.rectangle(frame, (int(bbox[0]), int(bbox[1])), (int(bbox[2]), int(bbox[3])), (255,0,0), 2)\n",
    "            cv2.putText(frame, str(track.track_id), (int(bbox[0]), int(bbox[1]) - 10), cv2.FONT_HERSHEY_SIMPLEX, 0.5, (255,0,0), 2)\n",
    "\n",
    "\n",
    "        cv2.putText(frame, \"Total Cars: \"+str(len(set(ids))), (10,10), cv2.FONT_HERSHEY_SIMPLEX, 0.5, (255,0,0), 2)\n",
    "        cv2.imshow('Frame', frame)\n",
    "        # write frame to output video\n",
    "        out.write(frame)\n",
    "            \n",
    "\n",
    "    # Press Q on keyboard to exit\n",
    "        if cv2.waitKey(25) & 0xFF == ord('q'):\n",
    "            break\n",
    "  \n",
    "# Break the loop\n",
    "    else:\n",
    "        break"
   ]
  },
  {
   "cell_type": "markdown",
   "metadata": {},
   "source": []
  }
 ],
 "metadata": {
  "kernelspec": {
   "display_name": "torch-gpu",
   "language": "python",
   "name": "python3"
  },
  "language_info": {
   "codemirror_mode": {
    "name": "ipython",
    "version": 3
   },
   "file_extension": ".py",
   "mimetype": "text/x-python",
   "name": "python",
   "nbconvert_exporter": "python",
   "pygments_lexer": "ipython3",
   "version": "3.8.16"
  },
  "orig_nbformat": 4
 },
 "nbformat": 4,
 "nbformat_minor": 2
}
