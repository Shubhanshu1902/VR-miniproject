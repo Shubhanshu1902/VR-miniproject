{
 "cells": [
  {
   "attachments": {},
   "cell_type": "markdown",
   "metadata": {},
   "source": [
    "# Input setup"
   ]
  },
  {
   "cell_type": "code",
   "execution_count": 1,
   "metadata": {},
   "outputs": [
    {
     "name": "stderr",
     "output_type": "stream",
     "text": [
      "OpenCV: Couldn't read video stream from file \"./testVideos/qutusubu.mp4\"\n"
     ]
    }
   ],
   "source": [
    "import torch\n",
    "import cv2\n",
    "import numpy as np\n",
    "\n",
    "cap = cv2.VideoCapture('./testVideos/vid2.mp4')\n",
    "width = int(cap.get(cv2.CAP_PROP_FRAME_WIDTH))\n",
    "height = int(cap.get(cv2.CAP_PROP_FRAME_HEIGHT))\n",
    "fps = int(cap.get(cv2.CAP_PROP_FPS))\n",
    "\n",
    "# Create a video writer object to save the output video in MP4 format\n",
    "fourcc = cv2.VideoWriter_fourcc(*'mp4v')\n",
    "out = cv2.VideoWriter('./outputs/vid2YOLO_Sort.mp4', fourcc, fps, (width, height))"
   ]
  },
  {
   "attachments": {},
   "cell_type": "markdown",
   "metadata": {},
   "source": [
    "# YOLO"
   ]
  },
  {
   "cell_type": "code",
   "execution_count": 2,
   "metadata": {},
   "outputs": [
    {
     "name": "stderr",
     "output_type": "stream",
     "text": [
      "Using cache found in /Users/vatsal007/.cache/torch/hub/ultralytics_yolov5_master\n",
      "YOLOv5 🚀 2023-3-10 Python-3.8.16 torch-2.1.0.dev20230302 CPU\n",
      "\n",
      "Fusing layers... \n",
      "YOLOv5s summary: 213 layers, 7225885 parameters, 0 gradients\n",
      "Adding AutoShape... \n"
     ]
    }
   ],
   "source": [
    "# Model\n",
    "model = torch.hub.load('ultralytics/yolov5', 'yolov5s', pretrained=True)"
   ]
  },
  {
   "attachments": {},
   "cell_type": "markdown",
   "metadata": {},
   "source": [
    "# Sort"
   ]
  },
  {
   "cell_type": "code",
   "execution_count": 3,
   "metadata": {},
   "outputs": [],
   "source": [
    "from sort.sort import Sort\n",
    "\n",
    "# Set up the SORT tracker\n",
    "tracker = Sort(max_age=10000)"
   ]
  },
  {
   "attachments": {},
   "cell_type": "markdown",
   "metadata": {},
   "source": [
    "# Detection and Display"
   ]
  },
  {
   "cell_type": "code",
   "execution_count": 4,
   "metadata": {},
   "outputs": [
    {
     "ename": "error",
     "evalue": "OpenCV(4.7.0) :-1: error: (-5:Bad argument) in function 'VideoWriter'\n> Overload resolution failed:\n>  - VideoWriter() missing required argument 'fourcc' (pos 2)\n>  - VideoWriter() missing required argument 'apiPreference' (pos 2)\n>  - VideoWriter() missing required argument 'fourcc' (pos 2)\n>  - VideoWriter() missing required argument 'apiPreference' (pos 2)\n",
     "output_type": "error",
     "traceback": [
      "\u001b[0;31m---------------------------------------------------------------------------\u001b[0m",
      "\u001b[0;31merror\u001b[0m                                     Traceback (most recent call last)",
      "Cell \u001b[0;32mIn[4], line 5\u001b[0m\n\u001b[1;32m      2\u001b[0m start_time \u001b[39m=\u001b[39m time\u001b[39m.\u001b[39mtime()\n\u001b[1;32m      3\u001b[0m num_frames \u001b[39m=\u001b[39m \u001b[39m0\u001b[39m\n\u001b[0;32m----> 5\u001b[0m out \u001b[39m=\u001b[39m cv2\u001b[39m.\u001b[39;49mVideoWriter(\u001b[39m'\u001b[39;49m\u001b[39m./outputs/vid2YOLO_Sort.mp4\u001b[39;49m\u001b[39m'\u001b[39;49m)\n\u001b[1;32m      7\u001b[0m ids \u001b[39m=\u001b[39m []\n\u001b[1;32m      8\u001b[0m \u001b[39mwhile\u001b[39;00m(cap\u001b[39m.\u001b[39misOpened()):\n\u001b[1;32m      9\u001b[0m       \n\u001b[1;32m     10\u001b[0m \u001b[39m# Capture frame-by-frame\u001b[39;00m\n",
      "\u001b[0;31merror\u001b[0m: OpenCV(4.7.0) :-1: error: (-5:Bad argument) in function 'VideoWriter'\n> Overload resolution failed:\n>  - VideoWriter() missing required argument 'fourcc' (pos 2)\n>  - VideoWriter() missing required argument 'apiPreference' (pos 2)\n>  - VideoWriter() missing required argument 'fourcc' (pos 2)\n>  - VideoWriter() missing required argument 'apiPreference' (pos 2)\n"
     ]
    }
   ],
   "source": [
    "import time\n",
    "start_time = time.time()\n",
    "num_frames = 0\n",
    "\n",
    "ids = []\n",
    "while(cap.isOpened()):\n",
    "      \n",
    "# Capture frame-by-frame\n",
    "    ret, frame = cap.read()\n",
    "    if ret == True:\n",
    "        # Increment the frame count\n",
    "        num_frames += 1\n",
    "        # Calculate fps\n",
    "        elapsed_time = time.time() - start_time\n",
    "        fps = num_frames / elapsed_time\n",
    "        # Display the fps\n",
    "        cv2.putText(frame, f\"FPS: {round(fps, 2)}\", (50, 50), cv2.FONT_HERSHEY_SIMPLEX, 1, (0, 255, 0), 2)\n",
    "        \n",
    "        #detecting any object\n",
    "        img = []\n",
    "        img.append(frame)\n",
    "        result = model(img).pandas().xyxy[0]\n",
    "\n",
    "        #converting output to sort input\n",
    "        boxes = []\n",
    "        for i in result.index:\n",
    "            if(result['name'][i] == 'car' or result['name'][i] == 'truck' or result['name'][i] == 'motorcycle' or result['name'][i] == 'bicycle'):\n",
    "                xleft,yleft,xright,yright = int(result['xmin'][i]),int(result['ymin'][i]),int(result['xmax'][i]),int(result['ymax'][i])\n",
    "                bbox = [xleft, yleft, xright, yright]\n",
    "                boxes.append(bbox)\n",
    "        boxes = np.array(boxes)\n",
    "        # features = np.array(encoder(frame,boxes))\n",
    "        \n",
    "        # Use SORT to track the cars across frames\n",
    "        track_bbs_ids = tracker.update(boxes)\n",
    "        for track in track_bbs_ids:\n",
    "            xmin, ymin, xmax, ymax, track_id = track\n",
    "            ids.append(track_id)\n",
    "            cv2.rectangle(frame, (int(xmin), int(ymin)), (int(xmax), int(ymax)), (255,0,0), 2)\n",
    "            cv2.putText(frame, str(track_id), (int(xmin), int(ymin) - 10), cv2.FONT_HERSHEY_SIMPLEX, 0.5, (255,0,0), 2)\n",
    "\n",
    "\n",
    "        cv2.putText(frame, \"Total Cars: \"+str(len(set(ids))), (10,10), cv2.FONT_HERSHEY_SIMPLEX, 0.5, (255,0,0), 2)\n",
    "        cv2.imshow('Frame', frame)\n",
    "        # write frame to output video\n",
    "        out.write(frame)\n",
    "            \n",
    "\n",
    "    # Press Q on keyboard to exit\n",
    "        if cv2.waitKey(25) & 0xFF == ord('q'):\n",
    "            break\n",
    "  \n",
    "# Break the loop\n",
    "    else:\n",
    "        break"
   ]
  },
  {
   "cell_type": "markdown",
   "metadata": {},
   "source": []
  }
 ],
 "metadata": {
  "kernelspec": {
   "display_name": "torch-gpu",
   "language": "python",
   "name": "python3"
  },
  "language_info": {
   "codemirror_mode": {
    "name": "ipython",
    "version": 3
   },
   "file_extension": ".py",
   "mimetype": "text/x-python",
   "name": "python",
   "nbconvert_exporter": "python",
   "pygments_lexer": "ipython3",
   "version": "3.8.16"
  },
  "orig_nbformat": 4
 },
 "nbformat": 4,
 "nbformat_minor": 2
}
