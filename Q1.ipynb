{
 "cells": [
  {
   "cell_type": "code",
   "execution_count": 110,
   "metadata": {},
   "outputs": [],
   "source": [
    "import torch\n",
    "import torch.nn as nn\n",
    "import torch.optim as optim\n",
    "import torchvision.transforms as transforms\n",
    "import torchvision\n",
    "import numpy as np\n",
    "import matplotlib.pyplot as plt"
   ]
  },
  {
   "cell_type": "code",
   "execution_count": 111,
   "metadata": {},
   "outputs": [
    {
     "name": "stdout",
     "output_type": "stream",
     "text": [
      "device used :- cuda\n"
     ]
    }
   ],
   "source": [
    "device = \"\"\n",
    "if torch.cuda.is_available(): device = \"cuda\"\n",
    "else: device = \"cpu\"\n",
    "\n",
    "print(\"device used :- \"+device)"
   ]
  },
  {
   "cell_type": "code",
   "execution_count": 112,
   "metadata": {},
   "outputs": [
    {
     "name": "stdout",
     "output_type": "stream",
     "text": [
      "Files already downloaded and verified\n",
      "Files already downloaded and verified\n"
     ]
    }
   ],
   "source": [
    "transform = transforms.Compose([\n",
    "    transforms.ToTensor(),\n",
    "    transforms.Normalize((0.5,0.5,0.5),(0.5,0.5,0.5))\n",
    "])\n",
    "\n",
    "train = torchvision.datasets.CIFAR10(root=\"./cifar10\",train=True,download=True,transform=transform)\n",
    "train_loader = torch.utils.data.DataLoader(train,batch_size=256,shuffle=True,num_workers = 4)\n",
    "\n",
    "test = torchvision.datasets.CIFAR10(root=\"./cifar10\",train=True,download=True,transform=transform)\n",
    "test_loader = torch.utils.data.DataLoader(test,batch_size=256,shuffle=False,num_workers = 4)"
   ]
  },
  {
   "cell_type": "code",
   "execution_count": 113,
   "metadata": {},
   "outputs": [],
   "source": [
    "class Cnn(nn.Module):\n",
    "    def __init__(self):\n",
    "        super(Cnn, self).__init__()\n",
    "        \n",
    "        # 5 convolutional layers\n",
    "        self.network = nn.Sequential(\n",
    "            nn.Conv2d(3, 6, 5),\n",
    "            nn.ReLU(),\n",
    "            nn.MaxPool2d(2, 2), # output: 128 x 8 x 8\n",
    "\n",
    "            nn.Conv2d(6,16,5),\n",
    "            nn.ReLU(),\n",
    "            nn.MaxPool2d(2, 2), # output: 256 x 4 x 4\n",
    "\n",
    "            nn.Flatten(), \n",
    "            nn.Linear(16*5*5,120),\n",
    "            nn.ReLU(),\n",
    "            nn.Linear(120,10))\n",
    "        \n",
    "    def forward(self, x):\n",
    "        x = self.network(x)\n",
    "        return x"
   ]
  },
  {
   "cell_type": "code",
   "execution_count": 114,
   "metadata": {},
   "outputs": [],
   "source": [
    "cnn = Cnn().to(device)"
   ]
  },
  {
   "cell_type": "code",
   "execution_count": 115,
   "metadata": {},
   "outputs": [],
   "source": [
    "criterion = nn.CrossEntropyLoss()\n",
    "optimizer = optim.Adam(cnn.parameters(), lr=0.01)"
   ]
  },
  {
   "cell_type": "code",
   "execution_count": 116,
   "metadata": {},
   "outputs": [],
   "source": [
    "def adjust_learning_rate(optimizer, epoch):\n",
    "    if epoch < 150: lr = 0.1\n",
    "    elif epoch < 250: lr = 0.01\n",
    "    else: lr = 0.001\n",
    "    for param_group in optimizer.param_groups: \n",
    "        param_group['lr'] = lr\n",
    "        \n",
    "    return lr"
   ]
  },
  {
   "cell_type": "code",
   "execution_count": 117,
   "metadata": {},
   "outputs": [],
   "source": [
    "lost_lst = []"
   ]
  },
  {
   "cell_type": "code",
   "execution_count": 118,
   "metadata": {},
   "outputs": [
    {
     "name": "stdout",
     "output_type": "stream",
     "text": [
      "[1] loss: 1.673\n",
      "[2] loss: 1.452\n",
      "[3] loss: 1.365\n",
      "[4] loss: 1.319\n",
      "[5] loss: 1.265\n",
      "[6] loss: 1.225\n",
      "[7] loss: 1.193\n",
      "[8] loss: 1.173\n",
      "[9] loss: 1.144\n",
      "[10] loss: 1.137\n",
      "[11] loss: 1.113\n",
      "[12] loss: 1.104\n",
      "[13] loss: 1.111\n",
      "[14] loss: 1.073\n",
      "[15] loss: 1.084\n",
      "[16] loss: 1.055\n",
      "[17] loss: 1.055\n",
      "[18] loss: 1.048\n",
      "[19] loss: 1.035\n",
      "[20] loss: 1.045\n",
      "Finished training\n"
     ]
    }
   ],
   "source": [
    "# Train the model\n",
    "num_epochs = 20\n",
    "for epoch in range(num_epochs):\n",
    "    running_loss = 0.0\n",
    "    for i, (inputs,labels) in enumerate(train_loader):\n",
    "        inputs,labels = inputs.to(device),labels.to(device)\n",
    "        optimizer.zero_grad()        \n",
    "        # Forward + backward + optimize\n",
    "        outputs = cnn(inputs)\n",
    "        loss = criterion(outputs, labels)\n",
    "        loss.backward()\n",
    "        optimizer.step()    \n",
    "        \n",
    "        # Print statistics\n",
    "        running_loss += loss.item()\n",
    "        # if i % 200 == 199:    # Print every 200 mini-batches\n",
    "    print('[%d] loss: %.3f' % (epoch + 1,running_loss / 200))\n",
    "    lost_lst.append(running_loss/200)\n",
    "            \n",
    "print('Finished training')"
   ]
  },
  {
   "cell_type": "code",
   "execution_count": 119,
   "metadata": {},
   "outputs": [],
   "source": [
    "def plotGraph(x):\n",
    "    s = len(x)\n",
    "    x = np.asarray(x)\n",
    "    y = np.arange(1,s+1)\n",
    "    plt.xlabel(\"epoch number\")\n",
    "    plt.ylabel(\"Running Loss\")   \n",
    "    plt.plot(y,x)\n",
    "    plt.show()"
   ]
  },
  {
   "cell_type": "code",
   "execution_count": 120,
   "metadata": {},
   "outputs": [
    {
     "data": {
      "image/png": "[encoded data removed]",
      "text/plain": [
       "<Figure size 640x480 with 1 Axes>"
      ]
     },
     "metadata": {},
     "output_type": "display_data"
    }
   ],
   "source": [
    "plotGraph(lost_lst)"
   ]
  },
  {
   "cell_type": "code",
   "execution_count": 121,
   "metadata": {},
   "outputs": [
    {
     "name": "stdout",
     "output_type": "stream",
     "text": [
      "Accuracy of the network on the 10000 test images: 60 %\n"
     ]
    }
   ],
   "source": [
    "correct = 0\n",
    "total = 0\n",
    "with torch.no_grad():\n",
    "    for inputs, labels in test_loader:\n",
    "        inputs,labels = inputs.to(device),labels.to(device)\n",
    "        outputs = cnn(inputs)\n",
    "        _, predicted = torch.max(outputs.data, 1)\n",
    "        total += labels.size(0)\n",
    "        correct += (predicted == labels).sum().item()\n",
    "\n",
    "print('Accuracy of the network on the 10000 test images: %d %%' % (100 * correct / total))"
   ]
  },
  {
   "cell_type": "code",
   "execution_count": null,
   "metadata": {},
   "outputs": [],
   "source": []
  }
 ],
 "metadata": {
  "kernelspec": {
   "display_name": "temp",
   "language": "python",
   "name": "python3"
  },
  "language_info": {
   "codemirror_mode": {
    "name": "ipython",
    "version": 3
   },
   "file_extension": ".py",
   "mimetype": "text/x-python",
   "name": "python",
   "nbconvert_exporter": "python",
   "pygments_lexer": "ipython3",
   "version": "3.9.16"
  },
  "orig_nbformat": 4,
  "vscode": {
   "interpreter": {
    "hash": "18e10d2e99ec2a03a72f610ba59ea9666dad43c33ff94eec6d960bb4eeb3a7bf"
   }
  }
 },
 "nbformat": 4,
 "nbformat_minor": 2
}
